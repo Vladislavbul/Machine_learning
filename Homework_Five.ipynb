{
 "cells": [
  {
   "cell_type": "markdown",
   "id": "4c4a61fa",
   "metadata": {},
   "source": [
    "# Модули:"
   ]
  },
  {
   "cell_type": "code",
   "execution_count": 1,
   "id": "7517829d",
   "metadata": {},
   "outputs": [],
   "source": [
    "import numpy\n",
    "import pandas\n",
    "import matplotlib.pyplot as plt\n",
    "\n",
    "from sklearn.neural_network import MLPClassifier\n",
    "from sklearn.metrics import accuracy_score, confusion_matrix, ConfusionMatrixDisplay\n",
    "from sklearn.model_selection import train_test_split\n",
    "%matplotlib inline\n",
    "\n",
    "from sklearn.neighbors import KNeighborsClassifier\n",
    "from sklearn.ensemble import RandomForestClassifier"
   ]
  },
  {
   "cell_type": "markdown",
   "id": "7e7aa323",
   "metadata": {},
   "source": [
    "# Описание задачи\n",
    "Набор данных содержит около 10 лет с 2008 до 2018 ежедневных метеорологических наблюдений из разных мест по всей Австралии. Нужно предсказать, будет ли дождь завтра или нет. Правильные значения находятся в признаке RainTomorrow.\n",
    "\n",
    "# Загрузка данных"
   ]
  },
  {
   "cell_type": "code",
   "execution_count": 2,
   "id": "96acaf19",
   "metadata": {},
   "outputs": [
    {
     "data": {
      "text/plain": [
       "(145460, 23)"
      ]
     },
     "execution_count": 2,
     "metadata": {},
     "output_type": "execute_result"
    }
   ],
   "source": [
    "url = \"https://raw.githubusercontent.com/Vladislavbul/Machine_learning/main/weatherAUS.csv\"\n",
    "data = pandas.read_csv(url)\n",
    "data['RainToday'] = data['RainToday'].apply(\n",
    "    lambda v: None if type(v) == float else v == \"Yes\")\n",
    "data['RainTomorrow'] = data['RainTomorrow'].apply(\n",
    "    lambda v: None if type(v) == float else v == \"Yes\")\n",
    "data['Date'] = pandas.to_datetime(data['Date'])\n",
    "data['Date'].dtype\n",
    "\n",
    "data.shape"
   ]
  },
  {
   "cell_type": "code",
   "execution_count": 3,
   "id": "173c28bf",
   "metadata": {},
   "outputs": [
    {
     "data": {
      "text/html": [
       "<div>\n",
       "<style scoped>\n",
       "    .dataframe tbody tr th:only-of-type {\n",
       "        vertical-align: middle;\n",
       "    }\n",
       "\n",
       "    .dataframe tbody tr th {\n",
       "        vertical-align: top;\n",
       "    }\n",
       "\n",
       "    .dataframe thead th {\n",
       "        text-align: right;\n",
       "    }\n",
       "</style>\n",
       "<table border=\"1\" class=\"dataframe\">\n",
       "  <thead>\n",
       "    <tr style=\"text-align: right;\">\n",
       "      <th></th>\n",
       "      <th>Date</th>\n",
       "      <th>Location</th>\n",
       "      <th>MinTemp</th>\n",
       "      <th>MaxTemp</th>\n",
       "      <th>Rainfall</th>\n",
       "      <th>Evaporation</th>\n",
       "      <th>Sunshine</th>\n",
       "      <th>WindGustDir</th>\n",
       "      <th>WindGustSpeed</th>\n",
       "      <th>WindDir9am</th>\n",
       "      <th>...</th>\n",
       "      <th>Humidity9am</th>\n",
       "      <th>Humidity3pm</th>\n",
       "      <th>Pressure9am</th>\n",
       "      <th>Pressure3pm</th>\n",
       "      <th>Cloud9am</th>\n",
       "      <th>Cloud3pm</th>\n",
       "      <th>Temp9am</th>\n",
       "      <th>Temp3pm</th>\n",
       "      <th>RainToday</th>\n",
       "      <th>RainTomorrow</th>\n",
       "    </tr>\n",
       "  </thead>\n",
       "  <tbody>\n",
       "    <tr>\n",
       "      <th>0</th>\n",
       "      <td>2008-12-01</td>\n",
       "      <td>Albury</td>\n",
       "      <td>13.4</td>\n",
       "      <td>22.9</td>\n",
       "      <td>0.6</td>\n",
       "      <td>NaN</td>\n",
       "      <td>NaN</td>\n",
       "      <td>W</td>\n",
       "      <td>44.0</td>\n",
       "      <td>W</td>\n",
       "      <td>...</td>\n",
       "      <td>71.0</td>\n",
       "      <td>22.0</td>\n",
       "      <td>1007.7</td>\n",
       "      <td>1007.1</td>\n",
       "      <td>8.0</td>\n",
       "      <td>NaN</td>\n",
       "      <td>16.9</td>\n",
       "      <td>21.8</td>\n",
       "      <td>False</td>\n",
       "      <td>False</td>\n",
       "    </tr>\n",
       "    <tr>\n",
       "      <th>1</th>\n",
       "      <td>2008-12-02</td>\n",
       "      <td>Albury</td>\n",
       "      <td>7.4</td>\n",
       "      <td>25.1</td>\n",
       "      <td>0.0</td>\n",
       "      <td>NaN</td>\n",
       "      <td>NaN</td>\n",
       "      <td>WNW</td>\n",
       "      <td>44.0</td>\n",
       "      <td>NNW</td>\n",
       "      <td>...</td>\n",
       "      <td>44.0</td>\n",
       "      <td>25.0</td>\n",
       "      <td>1010.6</td>\n",
       "      <td>1007.8</td>\n",
       "      <td>NaN</td>\n",
       "      <td>NaN</td>\n",
       "      <td>17.2</td>\n",
       "      <td>24.3</td>\n",
       "      <td>False</td>\n",
       "      <td>False</td>\n",
       "    </tr>\n",
       "    <tr>\n",
       "      <th>2</th>\n",
       "      <td>2008-12-03</td>\n",
       "      <td>Albury</td>\n",
       "      <td>12.9</td>\n",
       "      <td>25.7</td>\n",
       "      <td>0.0</td>\n",
       "      <td>NaN</td>\n",
       "      <td>NaN</td>\n",
       "      <td>WSW</td>\n",
       "      <td>46.0</td>\n",
       "      <td>W</td>\n",
       "      <td>...</td>\n",
       "      <td>38.0</td>\n",
       "      <td>30.0</td>\n",
       "      <td>1007.6</td>\n",
       "      <td>1008.7</td>\n",
       "      <td>NaN</td>\n",
       "      <td>2.0</td>\n",
       "      <td>21.0</td>\n",
       "      <td>23.2</td>\n",
       "      <td>False</td>\n",
       "      <td>False</td>\n",
       "    </tr>\n",
       "    <tr>\n",
       "      <th>3</th>\n",
       "      <td>2008-12-04</td>\n",
       "      <td>Albury</td>\n",
       "      <td>9.2</td>\n",
       "      <td>28.0</td>\n",
       "      <td>0.0</td>\n",
       "      <td>NaN</td>\n",
       "      <td>NaN</td>\n",
       "      <td>NE</td>\n",
       "      <td>24.0</td>\n",
       "      <td>SE</td>\n",
       "      <td>...</td>\n",
       "      <td>45.0</td>\n",
       "      <td>16.0</td>\n",
       "      <td>1017.6</td>\n",
       "      <td>1012.8</td>\n",
       "      <td>NaN</td>\n",
       "      <td>NaN</td>\n",
       "      <td>18.1</td>\n",
       "      <td>26.5</td>\n",
       "      <td>False</td>\n",
       "      <td>False</td>\n",
       "    </tr>\n",
       "    <tr>\n",
       "      <th>4</th>\n",
       "      <td>2008-12-05</td>\n",
       "      <td>Albury</td>\n",
       "      <td>17.5</td>\n",
       "      <td>32.3</td>\n",
       "      <td>1.0</td>\n",
       "      <td>NaN</td>\n",
       "      <td>NaN</td>\n",
       "      <td>W</td>\n",
       "      <td>41.0</td>\n",
       "      <td>ENE</td>\n",
       "      <td>...</td>\n",
       "      <td>82.0</td>\n",
       "      <td>33.0</td>\n",
       "      <td>1010.8</td>\n",
       "      <td>1006.0</td>\n",
       "      <td>7.0</td>\n",
       "      <td>8.0</td>\n",
       "      <td>17.8</td>\n",
       "      <td>29.7</td>\n",
       "      <td>False</td>\n",
       "      <td>False</td>\n",
       "    </tr>\n",
       "  </tbody>\n",
       "</table>\n",
       "<p>5 rows × 23 columns</p>\n",
       "</div>"
      ],
      "text/plain": [
       "        Date Location  MinTemp  MaxTemp  Rainfall  Evaporation  Sunshine  \\\n",
       "0 2008-12-01   Albury     13.4     22.9       0.6          NaN       NaN   \n",
       "1 2008-12-02   Albury      7.4     25.1       0.0          NaN       NaN   \n",
       "2 2008-12-03   Albury     12.9     25.7       0.0          NaN       NaN   \n",
       "3 2008-12-04   Albury      9.2     28.0       0.0          NaN       NaN   \n",
       "4 2008-12-05   Albury     17.5     32.3       1.0          NaN       NaN   \n",
       "\n",
       "  WindGustDir  WindGustSpeed WindDir9am  ... Humidity9am  Humidity3pm  \\\n",
       "0           W           44.0          W  ...        71.0         22.0   \n",
       "1         WNW           44.0        NNW  ...        44.0         25.0   \n",
       "2         WSW           46.0          W  ...        38.0         30.0   \n",
       "3          NE           24.0         SE  ...        45.0         16.0   \n",
       "4           W           41.0        ENE  ...        82.0         33.0   \n",
       "\n",
       "   Pressure9am  Pressure3pm  Cloud9am  Cloud3pm  Temp9am  Temp3pm  RainToday  \\\n",
       "0       1007.7       1007.1       8.0       NaN     16.9     21.8      False   \n",
       "1       1010.6       1007.8       NaN       NaN     17.2     24.3      False   \n",
       "2       1007.6       1008.7       NaN       2.0     21.0     23.2      False   \n",
       "3       1017.6       1012.8       NaN       NaN     18.1     26.5      False   \n",
       "4       1010.8       1006.0       7.0       8.0     17.8     29.7      False   \n",
       "\n",
       "   RainTomorrow  \n",
       "0         False  \n",
       "1         False  \n",
       "2         False  \n",
       "3         False  \n",
       "4         False  \n",
       "\n",
       "[5 rows x 23 columns]"
      ]
     },
     "execution_count": 3,
     "metadata": {},
     "output_type": "execute_result"
    }
   ],
   "source": [
    "data.head()"
   ]
  },
  {
   "cell_type": "code",
   "execution_count": 4,
   "id": "83476d5a",
   "metadata": {},
   "outputs": [
    {
     "data": {
      "text/plain": [
       "Index(['Date', 'Location', 'MinTemp', 'MaxTemp', 'Rainfall', 'Evaporation',\n",
       "       'Sunshine', 'WindGustDir', 'WindGustSpeed', 'WindDir9am', 'WindDir3pm',\n",
       "       'WindSpeed9am', 'WindSpeed3pm', 'Humidity9am', 'Humidity3pm',\n",
       "       'Pressure9am', 'Pressure3pm', 'Cloud9am', 'Cloud3pm', 'Temp9am',\n",
       "       'Temp3pm', 'RainToday', 'RainTomorrow'],\n",
       "      dtype='object')"
      ]
     },
     "execution_count": 4,
     "metadata": {},
     "output_type": "execute_result"
    }
   ],
   "source": [
    "data.columns"
   ]
  },
  {
   "cell_type": "code",
   "execution_count": 5,
   "id": "fdd6bea6",
   "metadata": {},
   "outputs": [
    {
     "name": "stdout",
     "output_type": "stream",
     "text": [
      "<class 'pandas.core.frame.DataFrame'>\n",
      "RangeIndex: 145460 entries, 0 to 145459\n",
      "Data columns (total 23 columns):\n",
      " #   Column         Non-Null Count   Dtype         \n",
      "---  ------         --------------   -----         \n",
      " 0   Date           145460 non-null  datetime64[ns]\n",
      " 1   Location       145460 non-null  object        \n",
      " 2   MinTemp        143975 non-null  float64       \n",
      " 3   MaxTemp        144199 non-null  float64       \n",
      " 4   Rainfall       142199 non-null  float64       \n",
      " 5   Evaporation    82670 non-null   float64       \n",
      " 6   Sunshine       75625 non-null   float64       \n",
      " 7   WindGustDir    135134 non-null  object        \n",
      " 8   WindGustSpeed  135197 non-null  float64       \n",
      " 9   WindDir9am     134894 non-null  object        \n",
      " 10  WindDir3pm     141232 non-null  object        \n",
      " 11  WindSpeed9am   143693 non-null  float64       \n",
      " 12  WindSpeed3pm   142398 non-null  float64       \n",
      " 13  Humidity9am    142806 non-null  float64       \n",
      " 14  Humidity3pm    140953 non-null  float64       \n",
      " 15  Pressure9am    130395 non-null  float64       \n",
      " 16  Pressure3pm    130432 non-null  float64       \n",
      " 17  Cloud9am       89572 non-null   float64       \n",
      " 18  Cloud3pm       86102 non-null   float64       \n",
      " 19  Temp9am        143693 non-null  float64       \n",
      " 20  Temp3pm        141851 non-null  float64       \n",
      " 21  RainToday      142199 non-null  object        \n",
      " 22  RainTomorrow   142193 non-null  object        \n",
      "dtypes: datetime64[ns](1), float64(16), object(6)\n",
      "memory usage: 25.5+ MB\n"
     ]
    }
   ],
   "source": [
    "data.info()"
   ]
  },
  {
   "cell_type": "markdown",
   "id": "f04288e8",
   "metadata": {},
   "source": [
    "Мы видим, что столбцы (признаки) имеют имена:\n",
    "* Date - Дата наблюдения\n",
    "* Location - Название места расположения метеостанции\n",
    "* MinTemp - Минимальная температура\n",
    "* MaxTemp - Максимальная температура\n",
    "* Rainfall - Количество осадков, за сутки в мм\n",
    "* Evaporation - Испарения за сутки\n",
    "* Sunshine - Количество солнечных часов за сутки\n",
    "* WindGustDir - Направление самого сильного порыва ветра за сутки\n",
    "* WindGustSpeed - Скорость (км/ч) самого сильного порыва ветра за сутки\n",
    "* WindDir9am - Направление ветра в 9 утра дня\n",
    "* WindDir3pm - Направление ветра в 3 часа дня\n",
    "* WindSpeed9am - Средняя скорость ветра (км/ч) в 9 утра дня\n",
    "* WindSpeed3pm - Средняя скорость ветра (км/ч) в 3 часа дня\n",
    "* Humidity9am - Влажность воздуха (в процентах) в 9 утра дня\n",
    "* Humidity3pm - Влажность (в процентах) в 3 часа дня\n",
    "* Pressure9am - Среднее значение атмосферного давления (гПа) над уровнем моря в 9 утра дня\n",
    "* Pressure3pm - Среднее значение атмосферного давления (гПа) над уровнем моря в 3 часа дня\n",
    "* Cloud9am - Часть неба, скрытая облаками, в 9 утра. Этот показатель измеряется в октантах. Данный признак означает, сколько октантов (небо разделяется на 8 частей) неба скрыто облаками. Показатель 0 указывает на полностью чистое небо, в то время как показатель 8 указывает на то, что оно полностью затянуто облаками.\n",
    "* Cloud3pm - Часть неба, скрытая облаками (измеряется в октантах), в 3 часа дня\n",
    "* Temp9am - Температура (градусы Цельсия) в 9 утра дня\n",
    "* Temp3pm - Температура (градусы Цельсия) в 3 часа дня\n",
    "* RainToday - Логическое значение: 1, если Осадки (мм) в течение 24 часов до 9 утра превышают 1 мм, в противном случае 0\n",
    "* RainTomorrow - Целевая переменная. Будет ли завтра дождь?"
   ]
  },
  {
   "cell_type": "code",
   "execution_count": 6,
   "id": "40d6e506",
   "metadata": {},
   "outputs": [
    {
     "data": {
      "text/plain": [
       "CategoricalDtype(categories=['Adelaide', 'Albany', 'Albury', 'AliceSprings',\n",
       "                  'BadgerysCreek', 'Ballarat', 'Bendigo', 'Brisbane', 'Cairns',\n",
       "                  'Canberra', 'Cobar', 'CoffsHarbour', 'Dartmoor', 'Darwin',\n",
       "                  'GoldCoast', 'Hobart', 'Katherine', 'Launceston',\n",
       "                  'Melbourne', 'MelbourneAirport', 'Mildura', 'Moree',\n",
       "                  'MountGambier', 'MountGinini', 'Newcastle', 'Nhil',\n",
       "                  'NorahHead', 'NorfolkIsland', 'Nuriootpa', 'PearceRAAF',\n",
       "                  'Penrith', 'Perth', 'PerthAirport', 'Portland', 'Richmond',\n",
       "                  'Sale', 'SalmonGums', 'Sydney', 'SydneyAirport',\n",
       "                  'Townsville', 'Tuggeranong', 'Uluru', 'WaggaWagga',\n",
       "                  'Walpole', 'Watsonia', 'Williamtown', 'Witchcliffe',\n",
       "                  'Wollongong', 'Woomera'],\n",
       ", ordered=False)"
      ]
     },
     "execution_count": 6,
     "metadata": {},
     "output_type": "execute_result"
    }
   ],
   "source": [
    "data['Location'] = data['Location'].astype('category')\n",
    "data['Location'].dtype"
   ]
  },
  {
   "cell_type": "code",
   "execution_count": 7,
   "id": "dee9351e",
   "metadata": {},
   "outputs": [
    {
     "data": {
      "text/plain": [
       "CategoricalDtype(categories=['E', 'ENE', 'ESE', 'N', 'NE', 'NNE', 'NNW', 'NW', 'S', 'SE',\n",
       "                  'SSE', 'SSW', 'SW', 'W', 'WNW', 'WSW'],\n",
       ", ordered=False)"
      ]
     },
     "execution_count": 7,
     "metadata": {},
     "output_type": "execute_result"
    }
   ],
   "source": [
    "data['WindDir3pm'] = data['WindDir3pm'].astype('category')\n",
    "data['WindDir3pm'].dtype"
   ]
  },
  {
   "cell_type": "code",
   "execution_count": 8,
   "id": "f69ad522",
   "metadata": {},
   "outputs": [
    {
     "data": {
      "text/plain": [
       "CategoricalDtype(categories=['E', 'ENE', 'ESE', 'N', 'NE', 'NNE', 'NNW', 'NW', 'S', 'SE',\n",
       "                  'SSE', 'SSW', 'SW', 'W', 'WNW', 'WSW'],\n",
       ", ordered=False)"
      ]
     },
     "execution_count": 8,
     "metadata": {},
     "output_type": "execute_result"
    }
   ],
   "source": [
    "data['WindDir9am'] = data['WindDir9am'].astype('category')\n",
    "data['WindDir9am'].dtype"
   ]
  },
  {
   "cell_type": "code",
   "execution_count": 9,
   "id": "e0a9f0e3",
   "metadata": {},
   "outputs": [
    {
     "data": {
      "text/plain": [
       "CategoricalDtype(categories=['E', 'ENE', 'ESE', 'N', 'NE', 'NNE', 'NNW', 'NW', 'S', 'SE',\n",
       "                  'SSE', 'SSW', 'SW', 'W', 'WNW', 'WSW'],\n",
       ", ordered=False)"
      ]
     },
     "execution_count": 9,
     "metadata": {},
     "output_type": "execute_result"
    }
   ],
   "source": [
    "data['WindGustDir'] = data['WindGustDir'].astype('category')\n",
    "data['WindGustDir'].dtype"
   ]
  },
  {
   "cell_type": "code",
   "execution_count": 10,
   "id": "a16041fa",
   "metadata": {},
   "outputs": [
    {
     "data": {
      "text/plain": [
       "(145114, 23)"
      ]
     },
     "execution_count": 10,
     "metadata": {},
     "output_type": "execute_result"
    }
   ],
   "source": [
    "rows_to_drop = data[\n",
    "    (data['Cloud9am'] == data['Cloud9am'].quantile(1)) | (data['Cloud3pm'] == data['Cloud3pm'].quantile(1)) | (data['Rainfall'] > data['Rainfall'].quantile(0.999)) | (data['Evaporation'] > data['Evaporation'].quantile(0.999)) | (data['WindGustSpeed'] > data['WindGustSpeed'].quantile(0.999))].index\n",
    "data = data.drop(rows_to_drop)\n",
    "data.shape"
   ]
  },
  {
   "cell_type": "code",
   "execution_count": 11,
   "id": "bcff794a",
   "metadata": {},
   "outputs": [
    {
     "data": {
      "text/html": [
       "<div>\n",
       "<style scoped>\n",
       "    .dataframe tbody tr th:only-of-type {\n",
       "        vertical-align: middle;\n",
       "    }\n",
       "\n",
       "    .dataframe tbody tr th {\n",
       "        vertical-align: top;\n",
       "    }\n",
       "\n",
       "    .dataframe thead th {\n",
       "        text-align: right;\n",
       "    }\n",
       "</style>\n",
       "<table border=\"1\" class=\"dataframe\">\n",
       "  <thead>\n",
       "    <tr style=\"text-align: right;\">\n",
       "      <th></th>\n",
       "      <th>MinTemp</th>\n",
       "      <th>MaxTemp</th>\n",
       "      <th>Rainfall</th>\n",
       "      <th>Evaporation</th>\n",
       "      <th>Sunshine</th>\n",
       "      <th>WindGustSpeed</th>\n",
       "      <th>WindSpeed9am</th>\n",
       "      <th>WindSpeed3pm</th>\n",
       "      <th>Humidity9am</th>\n",
       "      <th>Humidity3pm</th>\n",
       "      <th>Pressure9am</th>\n",
       "      <th>Pressure3pm</th>\n",
       "      <th>Cloud9am</th>\n",
       "      <th>Cloud3pm</th>\n",
       "      <th>Temp9am</th>\n",
       "      <th>Temp3pm</th>\n",
       "    </tr>\n",
       "  </thead>\n",
       "  <tbody>\n",
       "    <tr>\n",
       "      <th>count</th>\n",
       "      <td>143632.000000</td>\n",
       "      <td>143855.000000</td>\n",
       "      <td>141856.000000</td>\n",
       "      <td>82488.000000</td>\n",
       "      <td>75445.000000</td>\n",
       "      <td>134861.000000</td>\n",
       "      <td>143353.000000</td>\n",
       "      <td>142058.000000</td>\n",
       "      <td>142469.000000</td>\n",
       "      <td>140620.000000</td>\n",
       "      <td>130069.000000</td>\n",
       "      <td>130107.000000</td>\n",
       "      <td>89317.000000</td>\n",
       "      <td>85851.000000</td>\n",
       "      <td>143351.000000</td>\n",
       "      <td>141513.000000</td>\n",
       "    </tr>\n",
       "    <tr>\n",
       "      <th>mean</th>\n",
       "      <td>12.183848</td>\n",
       "      <td>23.215642</td>\n",
       "      <td>2.217314</td>\n",
       "      <td>5.416176</td>\n",
       "      <td>7.618526</td>\n",
       "      <td>39.956348</td>\n",
       "      <td>14.018444</td>\n",
       "      <td>18.640816</td>\n",
       "      <td>68.881097</td>\n",
       "      <td>51.523332</td>\n",
       "      <td>1017.669993</td>\n",
       "      <td>1015.275066</td>\n",
       "      <td>4.445156</td>\n",
       "      <td>4.506762</td>\n",
       "      <td>16.982574</td>\n",
       "      <td>21.678980</td>\n",
       "    </tr>\n",
       "    <tr>\n",
       "      <th>std</th>\n",
       "      <td>6.395376</td>\n",
       "      <td>7.115475</td>\n",
       "      <td>7.068215</td>\n",
       "      <td>3.846834</td>\n",
       "      <td>3.781495</td>\n",
       "      <td>13.440696</td>\n",
       "      <td>8.882455</td>\n",
       "      <td>8.777681</td>\n",
       "      <td>19.013097</td>\n",
       "      <td>20.769858</td>\n",
       "      <td>7.094443</td>\n",
       "      <td>7.026386</td>\n",
       "      <td>2.886198</td>\n",
       "      <td>2.719709</td>\n",
       "      <td>6.486823</td>\n",
       "      <td>6.933057</td>\n",
       "    </tr>\n",
       "    <tr>\n",
       "      <th>min</th>\n",
       "      <td>-8.500000</td>\n",
       "      <td>-4.800000</td>\n",
       "      <td>0.000000</td>\n",
       "      <td>0.000000</td>\n",
       "      <td>0.000000</td>\n",
       "      <td>6.000000</td>\n",
       "      <td>0.000000</td>\n",
       "      <td>0.000000</td>\n",
       "      <td>0.000000</td>\n",
       "      <td>0.000000</td>\n",
       "      <td>980.500000</td>\n",
       "      <td>978.200000</td>\n",
       "      <td>0.000000</td>\n",
       "      <td>0.000000</td>\n",
       "      <td>-7.200000</td>\n",
       "      <td>-5.400000</td>\n",
       "    </tr>\n",
       "    <tr>\n",
       "      <th>25%</th>\n",
       "      <td>7.600000</td>\n",
       "      <td>17.900000</td>\n",
       "      <td>0.000000</td>\n",
       "      <td>2.600000</td>\n",
       "      <td>4.900000</td>\n",
       "      <td>31.000000</td>\n",
       "      <td>7.000000</td>\n",
       "      <td>13.000000</td>\n",
       "      <td>57.000000</td>\n",
       "      <td>37.000000</td>\n",
       "      <td>1013.000000</td>\n",
       "      <td>1010.500000</td>\n",
       "      <td>1.000000</td>\n",
       "      <td>2.000000</td>\n",
       "      <td>12.300000</td>\n",
       "      <td>16.600000</td>\n",
       "    </tr>\n",
       "    <tr>\n",
       "      <th>50%</th>\n",
       "      <td>12.000000</td>\n",
       "      <td>22.600000</td>\n",
       "      <td>0.000000</td>\n",
       "      <td>4.800000</td>\n",
       "      <td>8.400000</td>\n",
       "      <td>39.000000</td>\n",
       "      <td>13.000000</td>\n",
       "      <td>19.000000</td>\n",
       "      <td>70.000000</td>\n",
       "      <td>52.000000</td>\n",
       "      <td>1017.600000</td>\n",
       "      <td>1015.300000</td>\n",
       "      <td>5.000000</td>\n",
       "      <td>5.000000</td>\n",
       "      <td>16.700000</td>\n",
       "      <td>21.100000</td>\n",
       "    </tr>\n",
       "    <tr>\n",
       "      <th>75%</th>\n",
       "      <td>16.800000</td>\n",
       "      <td>28.200000</td>\n",
       "      <td>0.800000</td>\n",
       "      <td>7.400000</td>\n",
       "      <td>10.600000</td>\n",
       "      <td>48.000000</td>\n",
       "      <td>19.000000</td>\n",
       "      <td>24.000000</td>\n",
       "      <td>83.000000</td>\n",
       "      <td>66.000000</td>\n",
       "      <td>1022.400000</td>\n",
       "      <td>1020.000000</td>\n",
       "      <td>7.000000</td>\n",
       "      <td>7.000000</td>\n",
       "      <td>21.600000</td>\n",
       "      <td>26.400000</td>\n",
       "    </tr>\n",
       "    <tr>\n",
       "      <th>max</th>\n",
       "      <td>33.900000</td>\n",
       "      <td>48.100000</td>\n",
       "      <td>102.000000</td>\n",
       "      <td>42.400000</td>\n",
       "      <td>14.500000</td>\n",
       "      <td>100.000000</td>\n",
       "      <td>130.000000</td>\n",
       "      <td>83.000000</td>\n",
       "      <td>100.000000</td>\n",
       "      <td>100.000000</td>\n",
       "      <td>1041.000000</td>\n",
       "      <td>1039.600000</td>\n",
       "      <td>8.000000</td>\n",
       "      <td>8.000000</td>\n",
       "      <td>40.200000</td>\n",
       "      <td>46.700000</td>\n",
       "    </tr>\n",
       "  </tbody>\n",
       "</table>\n",
       "</div>"
      ],
      "text/plain": [
       "             MinTemp        MaxTemp       Rainfall   Evaporation  \\\n",
       "count  143632.000000  143855.000000  141856.000000  82488.000000   \n",
       "mean       12.183848      23.215642       2.217314      5.416176   \n",
       "std         6.395376       7.115475       7.068215      3.846834   \n",
       "min        -8.500000      -4.800000       0.000000      0.000000   \n",
       "25%         7.600000      17.900000       0.000000      2.600000   \n",
       "50%        12.000000      22.600000       0.000000      4.800000   \n",
       "75%        16.800000      28.200000       0.800000      7.400000   \n",
       "max        33.900000      48.100000     102.000000     42.400000   \n",
       "\n",
       "           Sunshine  WindGustSpeed   WindSpeed9am   WindSpeed3pm  \\\n",
       "count  75445.000000  134861.000000  143353.000000  142058.000000   \n",
       "mean       7.618526      39.956348      14.018444      18.640816   \n",
       "std        3.781495      13.440696       8.882455       8.777681   \n",
       "min        0.000000       6.000000       0.000000       0.000000   \n",
       "25%        4.900000      31.000000       7.000000      13.000000   \n",
       "50%        8.400000      39.000000      13.000000      19.000000   \n",
       "75%       10.600000      48.000000      19.000000      24.000000   \n",
       "max       14.500000     100.000000     130.000000      83.000000   \n",
       "\n",
       "         Humidity9am    Humidity3pm    Pressure9am    Pressure3pm  \\\n",
       "count  142469.000000  140620.000000  130069.000000  130107.000000   \n",
       "mean       68.881097      51.523332    1017.669993    1015.275066   \n",
       "std        19.013097      20.769858       7.094443       7.026386   \n",
       "min         0.000000       0.000000     980.500000     978.200000   \n",
       "25%        57.000000      37.000000    1013.000000    1010.500000   \n",
       "50%        70.000000      52.000000    1017.600000    1015.300000   \n",
       "75%        83.000000      66.000000    1022.400000    1020.000000   \n",
       "max       100.000000     100.000000    1041.000000    1039.600000   \n",
       "\n",
       "           Cloud9am      Cloud3pm        Temp9am        Temp3pm  \n",
       "count  89317.000000  85851.000000  143351.000000  141513.000000  \n",
       "mean       4.445156      4.506762      16.982574      21.678980  \n",
       "std        2.886198      2.719709       6.486823       6.933057  \n",
       "min        0.000000      0.000000      -7.200000      -5.400000  \n",
       "25%        1.000000      2.000000      12.300000      16.600000  \n",
       "50%        5.000000      5.000000      16.700000      21.100000  \n",
       "75%        7.000000      7.000000      21.600000      26.400000  \n",
       "max        8.000000      8.000000      40.200000      46.700000  "
      ]
     },
     "execution_count": 11,
     "metadata": {},
     "output_type": "execute_result"
    }
   ],
   "source": [
    "data.describe()"
   ]
  },
  {
   "cell_type": "code",
   "execution_count": 12,
   "id": "89736362",
   "metadata": {},
   "outputs": [
    {
     "data": {
      "text/plain": [
       "Date                 0\n",
       "Location             0\n",
       "MinTemp              0\n",
       "MaxTemp              0\n",
       "Rainfall             0\n",
       "Evaporation          0\n",
       "Sunshine             0\n",
       "WindGustDir      10316\n",
       "WindGustSpeed        0\n",
       "WindDir9am       10555\n",
       "WindDir3pm        4221\n",
       "WindSpeed9am         0\n",
       "WindSpeed3pm         0\n",
       "Humidity9am          0\n",
       "Humidity3pm          0\n",
       "Pressure9am          0\n",
       "Pressure3pm          0\n",
       "Cloud9am             0\n",
       "Cloud3pm             0\n",
       "Temp9am              0\n",
       "Temp3pm              0\n",
       "RainToday         3258\n",
       "RainTomorrow      3262\n",
       "dtype: int64"
      ]
     },
     "execution_count": 12,
     "metadata": {},
     "output_type": "execute_result"
    }
   ],
   "source": [
    "columns = [\"MinTemp\", \"MaxTemp\", \"Rainfall\", \"Evaporation\", \"Sunshine\", \"WindGustSpeed\", \"WindSpeed9am\", \"WindSpeed3pm\", \"Humidity9am\", \"Humidity3pm\", \"Pressure9am\", \"Pressure3pm\", \"Cloud9am\", \"Cloud3pm\", \"Temp9am\", \"Temp3pm\"]\n",
    "data.fillna(data[columns].median(axis=0), axis=0, inplace=True)\n",
    "data.isna().sum()"
   ]
  },
  {
   "cell_type": "code",
   "execution_count": 13,
   "id": "2372069a",
   "metadata": {},
   "outputs": [
    {
     "data": {
      "text/plain": [
       "Date                0\n",
       "Location            0\n",
       "MinTemp             0\n",
       "MaxTemp             0\n",
       "Rainfall            0\n",
       "Evaporation         0\n",
       "Sunshine            0\n",
       "WindGustDir         0\n",
       "WindGustSpeed       0\n",
       "WindDir9am          0\n",
       "WindDir3pm          0\n",
       "WindSpeed9am        0\n",
       "WindSpeed3pm        0\n",
       "Humidity9am         0\n",
       "Humidity3pm         0\n",
       "Pressure9am         0\n",
       "Pressure3pm         0\n",
       "Cloud9am            0\n",
       "Cloud3pm            0\n",
       "Temp9am             0\n",
       "Temp3pm             0\n",
       "RainToday        3258\n",
       "RainTomorrow     3262\n",
       "dtype: int64"
      ]
     },
     "execution_count": 13,
     "metadata": {},
     "output_type": "execute_result"
    }
   ],
   "source": [
    "data['WindGustDir'].fillna(data['WindGustDir'].mode().iloc[0], inplace=True)\n",
    "data['WindDir9am'].fillna(data['WindDir9am'].mode().iloc[0], inplace=True)\n",
    "data['WindDir3pm'].fillna(data['WindDir3pm'].mode().iloc[0], inplace=True)\n",
    "data.isna().sum()"
   ]
  },
  {
   "cell_type": "code",
   "execution_count": 14,
   "id": "359d4a77",
   "metadata": {},
   "outputs": [
    {
     "data": {
      "text/plain": [
       "Date             0\n",
       "Location         0\n",
       "MinTemp          0\n",
       "MaxTemp          0\n",
       "Rainfall         0\n",
       "Evaporation      0\n",
       "Sunshine         0\n",
       "WindGustDir      0\n",
       "WindGustSpeed    0\n",
       "WindDir9am       0\n",
       "WindDir3pm       0\n",
       "WindSpeed9am     0\n",
       "WindSpeed3pm     0\n",
       "Humidity9am      0\n",
       "Humidity3pm      0\n",
       "Pressure9am      0\n",
       "Pressure3pm      0\n",
       "Cloud9am         0\n",
       "Cloud3pm         0\n",
       "Temp9am          0\n",
       "Temp3pm          0\n",
       "RainToday        0\n",
       "RainTomorrow     0\n",
       "dtype: int64"
      ]
     },
     "execution_count": 14,
     "metadata": {},
     "output_type": "execute_result"
    }
   ],
   "source": [
    "data.dropna(axis=0, how='all', subset=['RainTomorrow'], inplace=True)\n",
    "data.dropna(axis=0, how='all', subset=['RainToday'], inplace=True)\n",
    "data.isna().sum()"
   ]
  },
  {
   "cell_type": "code",
   "execution_count": 15,
   "id": "992cf196",
   "metadata": {},
   "outputs": [
    {
     "data": {
      "text/plain": [
       "(140448, 116)"
      ]
     },
     "execution_count": 15,
     "metadata": {},
     "output_type": "execute_result"
    }
   ],
   "source": [
    "data['RainTomorrow'] = data['RainTomorrow'].astype('float32')\n",
    "data['RainToday'] = data['RainToday'].astype('float32')\n",
    "data = pandas.get_dummies(data)\n",
    "data.shape"
   ]
  },
  {
   "cell_type": "code",
   "execution_count": 16,
   "id": "df8612f8",
   "metadata": {},
   "outputs": [],
   "source": [
    "data_stand = data.drop(['Date'], axis=1)\n",
    "numpy.random.seed(52)\n",
    "random_subset = numpy.random.choice(\n",
    "    numpy.arange(data_stand.shape[0]), size=40000, replace=False)\n",
    "data_stand = data_stand.iloc[random_subset]\n",
    "data_stand = (data_stand - data_stand.min(axis=0)) / \\\n",
    "    (data_stand.max(axis=0) - data_stand.min(axis=0))\n",
    "data_stand['RainTomorrow'].astype('bool')\n",
    "data_stand['RainToday'].astype('bool')\n",
    "pass"
   ]
  },
  {
   "cell_type": "markdown",
   "id": "02031499",
   "metadata": {},
   "source": [
    "# Разбить данные на обучающую и тестовую выборки"
   ]
  },
  {
   "cell_type": "code",
   "execution_count": 17,
   "id": "1dc36adf",
   "metadata": {},
   "outputs": [],
   "source": [
    "X = data_stand.drop(['RainTomorrow'], axis=1)\n",
    "y = data_stand['RainTomorrow']"
   ]
  },
  {
   "cell_type": "code",
   "execution_count": 18,
   "id": "01715e34",
   "metadata": {},
   "outputs": [],
   "source": [
    "from sklearn.model_selection import train_test_split\n",
    "X_train, X_test, y_train, y_test = train_test_split(\n",
    "    X, y, test_size=0.25, random_state=52)\n",
    "\n",
    "N_train, _ = X_train.shape\n",
    "N_test,  _ = X_test.shape"
   ]
  },
  {
   "cell_type": "markdown",
   "id": "18e0a2cc",
   "metadata": {},
   "source": [
    "# Создание модели и ее обучение"
   ]
  },
  {
   "cell_type": "code",
   "execution_count": 19,
   "id": "24a5d54b",
   "metadata": {},
   "outputs": [],
   "source": [
    "mlp_model = MLPClassifier(hidden_layer_sizes=(50,),\n",
    "                          solver='adam',\n",
    "                          activation='relu',\n",
    "                          random_state=3,\n",
    "                          max_iter=1000)"
   ]
  },
  {
   "cell_type": "code",
   "execution_count": 20,
   "id": "a3bcadd7",
   "metadata": {},
   "outputs": [
    {
     "name": "stdout",
     "output_type": "stream",
     "text": [
      "Wall time: 1min 34s\n"
     ]
    },
    {
     "data": {
      "text/plain": [
       "MLPClassifier(hidden_layer_sizes=(50,), max_iter=1000, random_state=3)"
      ]
     },
     "execution_count": 20,
     "metadata": {},
     "output_type": "execute_result"
    }
   ],
   "source": [
    "%%time\n",
    "mlp_model.fit(X_train, y_train)"
   ]
  },
  {
   "cell_type": "markdown",
   "id": "74516700",
   "metadata": {},
   "source": [
    "### Проверка качества классификатора:"
   ]
  },
  {
   "cell_type": "code",
   "execution_count": 21,
   "id": "87a83c81",
   "metadata": {},
   "outputs": [],
   "source": [
    "y_train_pred = mlp_model.predict(X_train)\n",
    "y_test_pred = mlp_model.predict(X_test)"
   ]
  },
  {
   "cell_type": "markdown",
   "id": "c6f1764f",
   "metadata": {},
   "source": [
    "### Проверка точности на обучающей и тестовой выборке:"
   ]
  },
  {
   "cell_type": "code",
   "execution_count": 22,
   "id": "db320888",
   "metadata": {},
   "outputs": [
    {
     "name": "stdout",
     "output_type": "stream",
     "text": [
      "TRAIN: 92.90% TEST: 82.26%\n"
     ]
    }
   ],
   "source": [
    "print(\"TRAIN: {:.2f}% TEST: {:.2f}%\".format(accuracy_score(y_train, y_train_pred)\n",
    "      * 100, accuracy_score(y_test, y_test_pred) * 100))"
   ]
  },
  {
   "cell_type": "markdown",
   "id": "4a49882a",
   "metadata": {},
   "source": [
    "Из-за того, что точность на тренировочной выборке сильно больше, чем на тестовой, то наблюдается переобучение."
   ]
  },
  {
   "cell_type": "markdown",
   "id": "3bfe3395",
   "metadata": {},
   "source": [
    "# Подбор параметра регуляризации"
   ]
  },
  {
   "cell_type": "code",
   "execution_count": 23,
   "id": "a013396d",
   "metadata": {},
   "outputs": [],
   "source": [
    "alpha_arr = numpy.logspace(-3, 2, 15)\n",
    "\n",
    "test_err, train_err = [], []\n",
    "train_acc, test_acc = [], []\n",
    "\n",
    "for alpha in alpha_arr:\n",
    "    model = MLPClassifier(alpha=alpha, hidden_layer_sizes=(50,),\n",
    "                          solver='adam', activation='relu', max_iter=1000, random_state=9)\n",
    "   \n",
    "    model.fit(X_train, y_train)\n",
    "\n",
    "    y_train_pred = model.predict(X_train)\n",
    "    y_test_pred = model.predict(X_test)\n",
    "    \n",
    "    train_err.append(numpy.mean(y_train != y_train_pred))\n",
    "    test_err.append(numpy.mean(y_test != y_test_pred))\n",
    "    \n",
    "    train_acc.append(accuracy_score(y_train, y_train_pred))\n",
    "    test_acc.append(accuracy_score(y_test, y_test_pred))"
   ]
  },
  {
   "cell_type": "code",
   "execution_count": 24,
   "id": "e2d52543",
   "metadata": {},
   "outputs": [
    {
     "data": {
      "text/plain": [
       "<matplotlib.legend.Legend at 0x24c1058c040>"
      ]
     },
     "execution_count": 24,
     "metadata": {},
     "output_type": "execute_result"
    },
    {
     "data": {
      "image/png": "[encoded data removed]",
      "text/plain": [
       "<Figure size 432x288 with 1 Axes>"
      ]
     },
     "metadata": {
      "needs_background": "light"
     },
     "output_type": "display_data"
    }
   ],
   "source": [
    "plt.semilogx(alpha_arr, train_err, 'b-o', label = 'train')\n",
    "plt.semilogx(alpha_arr, test_err, 'r-o', label = 'test')\n",
    "plt.xlim([numpy.min(alpha_arr), numpy.max(alpha_arr)])\n",
    "plt.title('Error is as a function of alpha')\n",
    "plt.xlabel('alpha')\n",
    "plt.ylabel('error')\n",
    "plt.legend()"
   ]
  },
  {
   "cell_type": "code",
   "execution_count": 25,
   "id": "74fa617c",
   "metadata": {},
   "outputs": [
    {
     "data": {
      "text/plain": [
       "<matplotlib.legend.Legend at 0x24c11f16f70>"
      ]
     },
     "execution_count": 25,
     "metadata": {},
     "output_type": "execute_result"
    },
    {
     "data": {
      "image/png": "[encoded data removed]",
      "text/plain": [
       "<Figure size 432x288 with 1 Axes>"
      ]
     },
     "metadata": {
      "needs_background": "light"
     },
     "output_type": "display_data"
    }
   ],
   "source": [
    "plt.semilogx(alpha_arr, train_acc, 'r-o', label='train')\n",
    "plt.semilogx(alpha_arr, test_acc, 'b-o', label='test')\n",
    "plt.xlim([numpy.min(alpha_arr), numpy.max(alpha_arr)])\n",
    "plt.title('Accuracy vs. alpha')\n",
    "plt.xlabel('alpha')\n",
    "plt.ylabel('Accuracy')\n",
    "plt.legend()"
   ]
  },
  {
   "cell_type": "markdown",
   "id": "b5e3f8f9",
   "metadata": {},
   "source": [
    "Оптимальное значение alpha:"
   ]
  },
  {
   "cell_type": "code",
   "execution_count": 26,
   "id": "397c57ad",
   "metadata": {},
   "outputs": [
    {
     "name": "stdout",
     "output_type": "stream",
     "text": [
      "Alpha opt: [0.13894955]\n"
     ]
    }
   ],
   "source": [
    "min_train_err = numpy.min(train_err)\n",
    "min_test_err = numpy.min(test_err)\n",
    "alpha_opt = alpha_arr[test_err == min_test_err]\n",
    "print(\"Alpha opt:\", alpha_opt)"
   ]
  },
  {
   "cell_type": "markdown",
   "id": "db65a58d",
   "metadata": {},
   "source": [
    "### Классификатор при найденном оптимальном значении alpha:"
   ]
  },
  {
   "cell_type": "code",
   "execution_count": 27,
   "id": "41d90e22",
   "metadata": {},
   "outputs": [],
   "source": [
    "mlp_model = MLPClassifier(alpha=alpha_opt, hidden_layer_sizes=(50,),\n",
    "                          solver='adam', activation='relu', random_state=7)\n",
    "mlp_model.fit(X_train, y_train)\n",
    "\n",
    "y_train_pred = mlp_model.predict(X_train)\n",
    "y_test_pred = mlp_model.predict(X_test)"
   ]
  },
  {
   "cell_type": "markdown",
   "id": "8d69aa0d",
   "metadata": {},
   "source": [
    "### Проверка точности на обучающей и тестовой выборке:"
   ]
  },
  {
   "cell_type": "code",
   "execution_count": 28,
   "id": "364c3a1b",
   "metadata": {},
   "outputs": [
    {
     "name": "stdout",
     "output_type": "stream",
     "text": [
      "TRAIN: 87.82% TEST: 85.51%\n"
     ]
    }
   ],
   "source": [
    "print(\"TRAIN: {:.2f}% TEST: {:.2f}%\".format(accuracy_score(y_train, y_train_pred)\n",
    "      * 100, accuracy_score(y_test, y_test_pred) * 100))"
   ]
  },
  {
   "cell_type": "markdown",
   "id": "e4d5666f",
   "metadata": {},
   "source": [
    "### Матрица рассогласования:"
   ]
  },
  {
   "cell_type": "code",
   "execution_count": 29,
   "id": "4c0e8df4",
   "metadata": {},
   "outputs": [
    {
     "name": "stdout",
     "output_type": "stream",
     "text": [
      "[[7312  984]\n",
      " [ 465 1239]]\n"
     ]
    }
   ],
   "source": [
    "print(confusion_matrix(y_test_pred, y_test))"
   ]
  },
  {
   "cell_type": "code",
   "execution_count": 30,
   "id": "a5cd73e3",
   "metadata": {},
   "outputs": [
    {
     "data": {
      "image/png": "[encoded data removed]",
      "text/plain": [
       "<Figure size 432x288 with 2 Axes>"
      ]
     },
     "metadata": {
      "needs_background": "light"
     },
     "output_type": "display_data"
    }
   ],
   "source": [
    "predictions = mlp_model.predict(X_test)\n",
    "cm = confusion_matrix(y_test, predictions, labels=mlp_model.classes_)\n",
    "disp = ConfusionMatrixDisplay(confusion_matrix=cm, display_labels=mlp_model.classes_)\n",
    "disp.plot()\n",
    "plt.show()"
   ]
  },
  {
   "cell_type": "markdown",
   "id": "c5763ee7",
   "metadata": {},
   "source": [
    "# Подбор числа нейронов:"
   ]
  },
  {
   "cell_type": "code",
   "execution_count": 31,
   "id": "e5351ee1",
   "metadata": {},
   "outputs": [],
   "source": [
    "neuron_count_array = numpy.linspace(10, 300, 30).astype(int)\n",
    "test_error = []\n",
    "train_error = []\n",
    "test_acc = []\n",
    "train_acc = []\n",
    "\n",
    "for neuron_count in neuron_count_array:\n",
    "    model = MLPClassifier(\n",
    "        alpha=alpha_opt,\n",
    "        hidden_layer_sizes=(neuron_count,),\n",
    "        solver='adam',\n",
    "        activation='relu',\n",
    "        max_iter=1000,\n",
    "        random_state=7\n",
    "    )\n",
    "    model.fit(X_train, y_train)\n",
    "\n",
    "    y_train_pred = model.predict(X_train)\n",
    "    y_test_pred = model.predict(X_test)\n",
    "\n",
    "    test_error.append(numpy.mean(y_test != y_test_pred))\n",
    "    train_error.append(numpy.mean(y_train != y_train_pred))\n",
    "    test_acc.append(accuracy_score(y_test, y_test_pred))\n",
    "    train_acc.append(accuracy_score(y_train, y_train_pred))"
   ]
  },
  {
   "cell_type": "code",
   "execution_count": 32,
   "id": "039d69a1",
   "metadata": {},
   "outputs": [
    {
     "name": "stdout",
     "output_type": "stream",
     "text": [
      "Train: минимальное значение ошибки = 0.07806666666666667, число нейронов = 0.005179474679231213\n",
      "Test: минимальное значение ошибки = 0.1424, число нейронов = 0.13894954943731375\n"
     ]
    },
    {
     "data": {
      "image/png": "[encoded data removed]",
      "text/plain": [
       "<Figure size 432x288 with 1 Axes>"
      ]
     },
     "metadata": {
      "needs_background": "light"
     },
     "output_type": "display_data"
    }
   ],
   "source": [
    "plt.plot(neuron_count_array, train_error, 'r-o', label='train')\n",
    "plt.plot(neuron_count_array, test_error, 'b-o', label='test')\n",
    "plt.xlim([numpy.min(neuron_count_array), numpy.max(neuron_count_array)])\n",
    "plt.xlabel('neuron count')\n",
    "plt.ylabel('error')\n",
    "plt.legend()\n",
    "\n",
    "print(f\"Train: минимальное значение ошибки = {numpy.min(train_err)}, число нейронов = {alpha_arr[numpy.argmin(train_err)]}\")\n",
    "print(f\"Test: минимальное значение ошибки = {numpy.min(test_err)}, число нейронов = {alpha_arr[numpy.argmin(test_err)]}\")"
   ]
  },
  {
   "cell_type": "code",
   "execution_count": 33,
   "id": "ba6055bb",
   "metadata": {},
   "outputs": [
    {
     "name": "stdout",
     "output_type": "stream",
     "text": [
      "Train: минимальное значение ошибки = 0.8633333333333333, число нейронов = 0.001\n",
      "Test: минимальное значение ошибки = 0.8528, число нейронов = 0.011787686347935873\n"
     ]
    },
    {
     "data": {
      "image/png": "[encoded data removed]",
      "text/plain": [
       "<Figure size 432x288 with 1 Axes>"
      ]
     },
     "metadata": {
      "needs_background": "light"
     },
     "output_type": "display_data"
    }
   ],
   "source": [
    "plt.plot(neuron_count_array, train_acc, 'r-o', label='train')\n",
    "plt.plot(neuron_count_array, test_acc, 'b-o', label='test')\n",
    "plt.xlim([numpy.min(neuron_count_array), numpy.max(neuron_count_array)])\n",
    "plt.title('Accuracy vs. neuron count')\n",
    "plt.xlabel('neuron count')\n",
    "plt.ylabel('Accuracy')\n",
    "plt.legend()\n",
    "\n",
    "print(f\"Train: минимальное значение ошибки = {numpy.min(train_acc)}, число нейронов = {alpha_arr[numpy.argmin(train_acc)]}\")\n",
    "print(f\"Test: минимальное значение ошибки = {numpy.min(test_acc)}, число нейронов = {alpha_arr[numpy.argmin(test_acc)]}\")"
   ]
  },
  {
   "cell_type": "code",
   "execution_count": 34,
   "id": "e9a6def6",
   "metadata": {},
   "outputs": [
    {
     "name": "stdout",
     "output_type": "stream",
     "text": [
      "Оптимальное число нейронов: 250\n"
     ]
    }
   ],
   "source": [
    "min_test_error = numpy.min(test_error)\n",
    "neuron_opt = neuron_count_array[test_error == min_test_error][0]\n",
    "print('Оптимальное число нейронов: {}'.format(neuron_opt))"
   ]
  },
  {
   "cell_type": "markdown",
   "id": "ab216ee7",
   "metadata": {},
   "source": [
    "### Классификатор при найденном оптимальном значении числа нейронов:"
   ]
  },
  {
   "cell_type": "code",
   "execution_count": 35,
   "id": "3acb1e0c",
   "metadata": {},
   "outputs": [],
   "source": [
    "mlp_model = MLPClassifier(alpha=alpha_opt, hidden_layer_sizes=(neuron_opt,),\n",
    "                          solver='adam', activation='relu', max_iter=1000, random_state=42)\n",
    "mlp_model.fit(X_train, y_train)\n",
    "\n",
    "y_train_pred = mlp_model.predict(X_train)\n",
    "y_test_pred = mlp_model.predict(X_test)"
   ]
  },
  {
   "cell_type": "markdown",
   "id": "92b975c9",
   "metadata": {},
   "source": [
    "### Проверка точности на обучающей и тестовой выборке:"
   ]
  },
  {
   "cell_type": "code",
   "execution_count": 36,
   "id": "9bcd329c",
   "metadata": {},
   "outputs": [
    {
     "name": "stdout",
     "output_type": "stream",
     "text": [
      "TRAIN: 88.59% TEST: 85.92%\n"
     ]
    }
   ],
   "source": [
    "print(\"TRAIN: {:.2f}% TEST: {:.2f}%\".format(accuracy_score(y_train, y_train_pred)\n",
    "      * 100, accuracy_score(y_test, y_test_pred) * 100))"
   ]
  },
  {
   "cell_type": "markdown",
   "id": "46c7f5ed",
   "metadata": {},
   "source": [
    "# Подбор оптимального значения параметра регуляризации и числа нейронов"
   ]
  },
  {
   "cell_type": "code",
   "execution_count": 37,
   "id": "55145ec0",
   "metadata": {},
   "outputs": [],
   "source": [
    "neuron_arr = numpy.linspace(10, 300, 5).astype(int)\n",
    "alpha_arr = numpy.logspace(-3, 2, 5)\n",
    "test_err = []\n",
    "train_err = []\n",
    "train_acc = []\n",
    "test_acc = []\n",
    "neuron_alpha_opt = []\n",
    "\n",
    "for neuron in neuron_arr:\n",
    "    for alpha in alpha_arr:\n",
    "        mlp_model = MLPClassifier(alpha=alpha, hidden_layer_sizes=(neuron,),\n",
    "                                  solver='adam', activation='relu', max_iter=1500, random_state=3)\n",
    "        mlp_model.fit(X_train, y_train)\n",
    "\n",
    "        y_train_pred = mlp_model.predict(X_train)\n",
    "        y_test_pred = mlp_model.predict(X_test)\n",
    "\n",
    "        train_err.append(numpy.mean(y_train != y_train_pred))\n",
    "        test_err.append(numpy.mean(y_test != y_test_pred))\n",
    "        train_acc.append(accuracy_score(y_train, y_train_pred))\n",
    "        test_acc.append(accuracy_score(y_test, y_test_pred))\n",
    "        neuron_alpha_opt.append([neuron, alpha])"
   ]
  },
  {
   "cell_type": "code",
   "execution_count": 38,
   "id": "6b302324",
   "metadata": {},
   "outputs": [
    {
     "name": "stdout",
     "output_type": "stream",
     "text": [
      "Neuron count opt: 155\n",
      "Alpha opt:  0.31622776601683794\n"
     ]
    }
   ],
   "source": [
    "min_test_err = numpy.min(test_err)\n",
    "i, = numpy.where(test_err == min_test_err)\n",
    "neuron_opt, alpha_opt = neuron_alpha_opt[i[0]]\n",
    "print(\"Neuron count opt:\", neuron_opt)\n",
    "print(\"Alpha opt: \", alpha_opt)"
   ]
  },
  {
   "cell_type": "markdown",
   "id": "23a34076",
   "metadata": {},
   "source": [
    "### Классификатор при найденных оптимальных значениях:"
   ]
  },
  {
   "cell_type": "code",
   "execution_count": 39,
   "id": "cd54eeec",
   "metadata": {},
   "outputs": [],
   "source": [
    "mlp_model = MLPClassifier(alpha=alpha_opt, hidden_layer_sizes=(neuron_opt,),\n",
    "                          solver='adam', activation='relu', max_iter=1000, random_state=42)\n",
    "mlp_model.fit(X_train, y_train)\n",
    "\n",
    "y_train_pred = mlp_model.predict(X_train)\n",
    "y_test_pred = mlp_model.predict(X_test)"
   ]
  },
  {
   "cell_type": "markdown",
   "id": "c28a2252",
   "metadata": {},
   "source": [
    "### Проверка точности на обучающей и тестовой выборке:¶"
   ]
  },
  {
   "cell_type": "code",
   "execution_count": 40,
   "id": "c285c95f",
   "metadata": {},
   "outputs": [
    {
     "name": "stdout",
     "output_type": "stream",
     "text": [
      "TRAIN: 86.51% TEST: 85.40%\n"
     ]
    }
   ],
   "source": [
    "print(\"TRAIN: {:.2f}% TEST: {:.2f}%\".format(accuracy_score(y_train, y_train_pred)\n",
    "      * 100, accuracy_score(y_test, y_test_pred) * 100))"
   ]
  },
  {
   "cell_type": "markdown",
   "id": "ec8b277c",
   "metadata": {},
   "source": [
    "# Выводы:\n",
    "\n",
    "### Подбор оптимального параметра регуляризации:\n",
    "    Можно избавиться от переобучения, тем самым повысить точность на тестовой выборке;\n",
    "### Подбор оптимального числа нейронов:\n",
    "    При оптимальном значении регулярации, немного повысил точность на тестовой выборке;\n",
    "### Подбор с помощью обоих параметров:\n",
    "    Мы избавляемся от переобучения и повышаем точность на обучающей выборке, при этом не теряя точность на тестовой."
   ]
  }
 ],
 "metadata": {
  "kernelspec": {
   "display_name": "Python 3",
   "language": "python",
   "name": "python3"
  },
  "language_info": {
   "codemirror_mode": {
    "name": "ipython",
    "version": 3
   },
   "file_extension": ".py",
   "mimetype": "text/x-python",
   "name": "python",
   "nbconvert_exporter": "python",
   "pygments_lexer": "ipython3",
   "version": "3.8.8"
  }
 },
 "nbformat": 4,
 "nbformat_minor": 5
}
